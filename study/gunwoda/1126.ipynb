{
 "cells": [
  {
   "cell_type": "code",
   "execution_count": 1,
   "metadata": {},
   "outputs": [],
   "source": [
    "import pandas as pd\n",
    "import ee\n",
    "import pandas as pd\n",
    "from prophet import Prophet\n",
    "import streamlit as st\n",
    "import plotly.express as px\n",
    "import plotly.graph_objs as go\n",
    "from plotly.subplots import make_subplots\n",
    "import folium"
   ]
  },
  {
   "cell_type": "code",
   "execution_count": 2,
   "metadata": {},
   "outputs": [],
   "source": [
    "ee.Initialize()"
   ]
  },
  {
   "cell_type": "code",
   "execution_count": 3,
   "metadata": {},
   "outputs": [],
   "source": [
    "aoi = ee.Geometry.Polygon(\n",
    "    [[[126.19653266055587, 36.853168924185226],\n",
    "      [126.19653266055587, 36.83836240145186],\n",
    "      [126.21259510596076, 36.83836240145186],\n",
    "      [126.21259510596076, 36.853168924185226],\n",
    "      [126.19653266055587, 36.853168924185226]]]\n",
    ")"
   ]
  },
  {
   "cell_type": "code",
   "execution_count": 4,
   "metadata": {},
   "outputs": [],
   "source": [
    "start_date = '2021-01-01'\n",
    "end_date = '2023-10-31'"
   ]
  },
  {
   "cell_type": "code",
   "execution_count": 5,
   "metadata": {},
   "outputs": [],
   "source": [
    "def calculateRVI(aoi,start_date,end_date):\n",
    "    # Sentinel-1 ImageCollection 필터링\n",
    "    sentinel1 = ee.ImageCollection('COPERNICUS/S1_GRD') \\\n",
    "            .filterBounds(aoi) \\\n",
    "            .filterDate(start_date, end_date) \\\n",
    "            .filter(ee.Filter.eq('instrumentMode', 'IW')) \\\n",
    "            .filter(ee.Filter.listContains('transmitterReceiverPolarisation', 'VV')) \\\n",
    "            .filter(ee.Filter.listContains('transmitterReceiverPolarisation', 'VH')) \\\n",
    "            .filter(ee.Filter.eq('orbitProperties_pass', 'ASCENDING'))\n",
    "    # RVI 계산 및 시계열 데이터 생성 함수\n",
    "    def calculate_rvi(image):\n",
    "        date = ee.Date(image.get('system:time_start')).format('YYYY-MM-dd')\n",
    "        vv = image.select('VV')\n",
    "        vh = image.select('VH')\n",
    "        rvi = vh.multiply(4).divide(vv.add(vh)).rename('rvi')\n",
    "        mean_rvi = rvi.reduceRegion(\n",
    "            reducer=ee.Reducer.mean(),\n",
    "            geometry=aoi,\n",
    "            scale=10\n",
    "        ).get('rvi')\n",
    "        return ee.Feature(None, {'ds': date, 'y': mean_rvi})\n",
    "    # 시계열 RVI 계산\n",
    "    time_series_rvi = sentinel1.map(calculate_rvi)\n",
    "    # 결과를 서버측 객체로 변환 (Python 클라이언트로 가져오기 위함)\n",
    "    rvi_features = time_series_rvi.getInfo()['features']\n",
    "    # 결과를 pandas DataFrame으로 변환\n",
    "    df = pd.DataFrame([feat['properties'] for feat in rvi_features])\n",
    "    # DataFrame을 'Date' 컬럼에 따라 오름차순으로 정렬\n",
    "    df = df.sort_values(by='ds')\n",
    "    return df"
   ]
  },
  {
   "cell_type": "code",
   "execution_count": 6,
   "metadata": {},
   "outputs": [],
   "source": [
    "def prophet_process(df):\n",
    "    # Prophet\n",
    "    # m = Prophet(yearly_seasonality=True,daily_seasonality=False,weekly_seasonality=False,holidays_prior_scale=0,changepoint_prior_scale=0.5)\n",
    "    m = Prophet(yearly_seasonality=True,daily_seasonality=False,weekly_seasonality=False,holidays_prior_scale=0.01,changepoint_prior_scale=0.01)\n",
    "    m.fit(df)\n",
    "    # future dataframe 생성\n",
    "    future = m.make_future_dataframe(periods=0,freq='M')\n",
    "    # predict\n",
    "    forecast = m.predict(future) \n",
    "    forecasted_value = forecast.iloc[-1]['yhat']  # 예측된 값을 가져옴\n",
    "    # 예측 결과를 데이터프레임에 추가\n",
    "    new_row = pd.DataFrame({'ds': [future.iloc[-1]['ds']], 'y': [forecasted_value]})\n",
    "    forecast_df = pd.concat([df, new_row], ignore_index=True)\n",
    "    return forecast,forecast_df,df,m"
   ]
  },
  {
   "cell_type": "code",
   "execution_count": 7,
   "metadata": {},
   "outputs": [],
   "source": [
    "def ts_analysis(df):\n",
    "    # 날짜 컬럼을 datetime 형식으로 변환\n",
    "    df['ds'] = pd.to_datetime(df['ds'])\n",
    "\n",
    "    # 최대값과 최소값의 일자 찾기\n",
    "    max_date = df[df['yhat'] == df['yhat'].max()]['ds'].iloc[0]\n",
    "    min_date = df[df['yhat'] == df['yhat'].min()]['ds'].iloc[0]\n",
    "\n",
    "    # 계절을 구분하기 위한 함수 정의\n",
    "    def get_season(month):\n",
    "        if month in [3, 4, 5]:\n",
    "            return 'Spring'\n",
    "        elif month in [6, 7, 8]:\n",
    "            return 'Summer'\n",
    "        elif month in [9, 10, 11]:\n",
    "            return 'Fall'\n",
    "        else:\n",
    "            return 'Winter'\n",
    "\n",
    "    # 월별 계절 할당\n",
    "    df['season'] = df['ds'].dt.month.apply(get_season)\n",
    "\n",
    "    # 계절별 평균값 계산\n",
    "    seasonal_trend = df.groupby('season')['yhat'].mean()\n",
    "\n",
    "    # 매월 평균 계산\n",
    "    monthly_avg = df.groupby(df['ds'].dt.month)['yhat'].mean()\n",
    "\n",
    "    # 전체 기간에 대한 평균 yhat 값\n",
    "    overall_avg = df['yhat'].mean()\n",
    "\n",
    "    # 계절별 평균값을 전체 평균값으로 나누어 상대적인 비율 계산\n",
    "    seasonal_relative = seasonal_trend / overall_avg\n",
    "\n",
    "    # 매년 평균값 계산\n",
    "    annual_avg = df.groupby(df['ds'].dt.year)['yhat'].mean()\n",
    "\n",
    "    # 매년 평균값을 전체 평균값으로 나누어 상대적인 비율 계산\n",
    "    annual_relative = annual_avg / overall_avg\n",
    "\n",
    "    # 매월 평균값을 전체 평균값으로 나누어 상대적인 비율 계산\n",
    "    monthly_relative = monthly_avg / overall_avg\n",
    "\n",
    "    result_df = pd.DataFrame({'seasonal_relative': seasonal_relative,\n",
    "                              'annual_relative': annual_relative,\n",
    "                              'monthly_relative': monthly_relative\n",
    "    })\n",
    "\n",
    "    return result_df, max_date, min_date, seasonal_trend\n"
   ]
  },
  {
   "cell_type": "code",
   "execution_count": 8,
   "metadata": {},
   "outputs": [],
   "source": [
    "df_s = calculateRVI(aoi,start_date,end_date)"
   ]
  },
  {
   "cell_type": "code",
   "execution_count": 9,
   "metadata": {},
   "outputs": [
    {
     "name": "stderr",
     "output_type": "stream",
     "text": [
      "16:56:14 - cmdstanpy - INFO - Chain [1] start processing\n",
      "16:56:14 - cmdstanpy - INFO - Chain [1] done processing\n"
     ]
    }
   ],
   "source": [
    "forecast,forecast_df,df,m = prophet_process(df_s)"
   ]
  },
  {
   "cell_type": "code",
   "execution_count": 10,
   "metadata": {},
   "outputs": [],
   "source": [
    "result_df, max_date, min_date, seasonal_trend = ts_analysis(forecast)"
   ]
  },
  {
   "cell_type": "code",
   "execution_count": 11,
   "metadata": {},
   "outputs": [],
   "source": [
    "from langchain.llms import LlamaCpp\n",
    "from langchain import PromptTemplate, LLMChain\n",
    "from langchain.callbacks.manager import CallbackManager\n",
    "from langchain.callbacks.streaming_stdout import StreamingStdOutCallbackHandler # 출력을 스트리밍하는 데 사용\n",
    "from langchain_experimental.agents.agent_toolkits import create_pandas_dataframe_agent\n",
    "\n",
    "\n",
    "def process_llm(df):\n",
    "    template = \"\"\"\n",
    "    You are an analyst who explains the vegetation index. \n",
    "    {question} has a relative ratio of four seasons.\n",
    "    Please explain this to me.\n",
    "    \"\"\"\n",
    "\n",
    "    prompt = PromptTemplate(template=template, input_variables=[\"question\"])\n",
    "\n",
    "    callback_manager = CallbackManager([StreamingStdOutCallbackHandler()])\n",
    "\n",
    "    llm = LlamaCpp(\n",
    "                    model_path=\"firefly-llama2-13b-chat.Q4_K_M.gguf\",\n",
    "                    input={\"temperature\": 0.75,\n",
    "                        \"max_length\": 4000,\n",
    "                        \"top_p\": 1},\n",
    "                    callback_manager=callback_manager,\n",
    "                    n_ctx=2048\n",
    "                    )\n",
    "\n",
    "    agent = create_pandas_dataframe_agent(llm, df, verbose=True)\n",
    "\n",
    "    answer = agent.run(prompt)\n",
    "\n",
    "    return answer "
   ]
  },
  {
   "cell_type": "code",
   "execution_count": null,
   "metadata": {},
   "outputs": [],
   "source": []
  },
  {
   "cell_type": "code",
   "execution_count": null,
   "metadata": {},
   "outputs": [],
   "source": []
  }
 ],
 "metadata": {
  "kernelspec": {
   "display_name": "llm",
   "language": "python",
   "name": "python3"
  },
  "language_info": {
   "codemirror_mode": {
    "name": "ipython",
    "version": 3
   },
   "file_extension": ".py",
   "mimetype": "text/x-python",
   "name": "python",
   "nbconvert_exporter": "python",
   "pygments_lexer": "ipython3",
   "version": "3.8.17"
  }
 },
 "nbformat": 4,
 "nbformat_minor": 2
}
