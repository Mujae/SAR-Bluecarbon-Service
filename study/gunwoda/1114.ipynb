{
 "cells": [
  {
   "cell_type": "code",
   "execution_count": 69,
   "metadata": {},
   "outputs": [],
   "source": [
    "aoi2 = {\n",
    "            \"type\": \"Feature\",\n",
    "            \"properties\": {\n",
    "                \"name\": \"포항 호미곶\"\n",
    "            },\n",
    "            \"geometry\": {\n",
    "                \"type\": \"Polygon\",\n",
    "                \"coordinates\": [\n",
    "                    [\n",
    "                        [\n",
    "                            129.56524548895032,\n",
    "                            36.07938410532303\n",
    "                        ],\n",
    "                        [\n",
    "                            129.56655182188928,\n",
    "                            36.07905999622248\n",
    "                        ],\n",
    "                        [\n",
    "                            129.56894545770393,\n",
    "                            36.07834416441952\n",
    "                        ],\n",
    "                        [\n",
    "                            129.5700954118841,\n",
    "                            36.077591279361485\n",
    "                        ],\n",
    "                        [\n",
    "                            129.56983938956853,\n",
    "                            36.07690633718157\n",
    "                        ],\n",
    "                        [\n",
    "                            129.56985996844412,\n",
    "                            36.07651088998368\n",
    "                        ],\n",
    "                        [\n",
    "                            129.57148025132796,\n",
    "                            36.07560318895601\n",
    "                        ],\n",
    "                        [\n",
    "                            129.57242351742929,\n",
    "                            36.076299330209935\n",
    "                        ],\n",
    "                        [\n",
    "                            129.57336311237833,\n",
    "                            36.08009412639197\n",
    "                        ],\n",
    "                        [\n",
    "                            129.57095418243125,\n",
    "                            36.08296641858419\n",
    "                        ],\n",
    "                        [\n",
    "                            129.5665347381402,\n",
    "                            36.082332370616356\n",
    "                        ],\n",
    "                        [\n",
    "                            129.56509566557435,\n",
    "                            36.08086763810617\n",
    "                        ],\n",
    "                        [\n",
    "                            129.56524548895032,\n",
    "                            36.07938410532303\n",
    "                        ]\n",
    "                    ]\n",
    "                ]\n",
    "            }\n",
    "        }"
   ]
  },
  {
   "cell_type": "code",
   "execution_count": 70,
   "metadata": {},
   "outputs": [],
   "source": [
    "import ee\n",
    "import pandas as pd\n",
    "from prophet import Prophet\n",
    "import plotly.express as px\n",
    "import plotly.graph_objs as go\n",
    "from plotly.subplots import make_subplots"
   ]
  },
  {
   "cell_type": "code",
   "execution_count": 72,
   "metadata": {},
   "outputs": [
    {
     "data": {
      "text/html": [
       "<p>To authorize access needed by Earth Engine, open the following\n",
       "        URL in a web browser and follow the instructions:</p>\n",
       "        <p><a href=https://code.earthengine.google.com/client-auth?scopes=https%3A//www.googleapis.com/auth/earthengine%20https%3A//www.googleapis.com/auth/devstorage.full_control&request_id=mz_H1Hhcj_7mWqLEKtM17gJIvchOeIj_iFlOnu5mtRE&tc=3mY-dvN7TD0gg9lgOs6WDd-dRCVCussfbH56NL761Ik&cc=Z5P8RpAVl6YN2zRXonDIqNapA51Zyi8WEkLjCWKs9BU>https://code.earthengine.google.com/client-auth?scopes=https%3A//www.googleapis.com/auth/earthengine%20https%3A//www.googleapis.com/auth/devstorage.full_control&request_id=mz_H1Hhcj_7mWqLEKtM17gJIvchOeIj_iFlOnu5mtRE&tc=3mY-dvN7TD0gg9lgOs6WDd-dRCVCussfbH56NL761Ik&cc=Z5P8RpAVl6YN2zRXonDIqNapA51Zyi8WEkLjCWKs9BU</a></p>\n",
       "        <p>The authorization workflow will generate a code, which you should paste in the box below.</p>\n",
       "        "
      ],
      "text/plain": [
       "<IPython.core.display.HTML object>"
      ]
     },
     "metadata": {},
     "output_type": "display_data"
    },
    {
     "name": "stdout",
     "output_type": "stream",
     "text": [
      "\n",
      "Successfully saved authorization token.\n"
     ]
    }
   ],
   "source": [
    "ee.Authenticate()"
   ]
  },
  {
   "cell_type": "code",
   "execution_count": 79,
   "metadata": {},
   "outputs": [],
   "source": [
    "ee.Initialize()"
   ]
  },
  {
   "cell_type": "code",
   "execution_count": 80,
   "metadata": {},
   "outputs": [],
   "source": [
    "def create_ee_polygon_from_geojson(gjson):\n",
    "    coordinates = gjson['geometry']['coordinates']\n",
    "    aoi = ee.Geometry.Polygon(coordinates)\n",
    "    return aoi"
   ]
  },
  {
   "cell_type": "code",
   "execution_count": 89,
   "metadata": {},
   "outputs": [],
   "source": [
    "def calculateNDVI(aoi, start_date, end_date):\n",
    "    # Sentinel-2 ImageCollection 필터링 및 구름 마스킹 적용\n",
    "    sentinel2 = ee.ImageCollection('COPERNICUS/S2') \\\n",
    "            .filterBounds(aoi) \\\n",
    "            .filterDate(start_date, end_date) \\\n",
    "            .filter(ee.Filter.lt('CLOUDY_PIXEL_PERCENTAGE', 10)) \n",
    "\n",
    "    # NDVI 계산 및 시계열 데이터 생성 함수\n",
    "    def calculate_ndvi(image):\n",
    "        date = ee.Date(image.get('system:time_start')).format('YYYY-MM-dd')\n",
    "        nir = image.select('B8')  # NIR 밴드\n",
    "        red = image.select('B4')  # Red 밴드\n",
    "        ndvi = nir.subtract(red).divide(nir.add(red)).rename('ndvi')\n",
    "        mean_ndvi = ndvi.reduceRegion(\n",
    "            reducer=ee.Reducer.mean(),\n",
    "            geometry=aoi,\n",
    "            scale=10  # 이 값은 필요에 따라 조정할 수 있습니다.\n",
    "        ).get('ndvi')\n",
    "        return ee.Feature(None, {'ds': date, 'y': mean_ndvi})\n",
    "    \n",
    "    \n",
    "    time_series_ndvi = sentinel2.map(calculate_ndvi)\n",
    "    \n",
    "    # 결과를 서버측 객체로 변환 (Python 클라이언트로 가져오기 위함)\n",
    "    rvi_features = time_series_ndvi.getInfo()['features']\n",
    "\n",
    "    # 결과를 pandas DataFrame으로 변환\n",
    "    df = pd.DataFrame([feat['properties'] for feat in rvi_features])\n",
    "\n",
    "    # DataFrame을 'Date' 컬럼에 따라 오름차순으로 정렬\n",
    "    df = df.sort_values(by='ds')\n",
    "    \n",
    "    return df"
   ]
  },
  {
   "cell_type": "code",
   "execution_count": 90,
   "metadata": {},
   "outputs": [],
   "source": [
    "aoi = create_ee_polygon_from_geojson(aoi2)"
   ]
  },
  {
   "cell_type": "code",
   "execution_count": 91,
   "metadata": {},
   "outputs": [],
   "source": [
    "start_date = '2013-01-01'\n",
    "end_date = '2023-10-31'"
   ]
  },
  {
   "cell_type": "code",
   "execution_count": 92,
   "metadata": {},
   "outputs": [
    {
     "ename": "EEException",
     "evalue": "Error in map(ID=20170430T020701_20170430T021509_T52SEE):\nImage.select: Parameter 'input' is required.",
     "output_type": "error",
     "traceback": [
      "\u001b[1;31m---------------------------------------------------------------------------\u001b[0m",
      "\u001b[1;31mHttpError\u001b[0m                                 Traceback (most recent call last)",
      "File \u001b[1;32mc:\\Users\\gunwo\\.conda\\envs\\cuda\\lib\\site-packages\\ee\\data.py:355\u001b[0m, in \u001b[0;36m_execute_cloud_call\u001b[1;34m(call, num_retries)\u001b[0m\n\u001b[0;32m    354\u001b[0m \u001b[39mtry\u001b[39;00m:\n\u001b[1;32m--> 355\u001b[0m   \u001b[39mreturn\u001b[39;00m call\u001b[39m.\u001b[39;49mexecute(num_retries\u001b[39m=\u001b[39;49mnum_retries)\n\u001b[0;32m    356\u001b[0m \u001b[39mexcept\u001b[39;00m googleapiclient\u001b[39m.\u001b[39merrors\u001b[39m.\u001b[39mHttpError \u001b[39mas\u001b[39;00m e:\n",
      "File \u001b[1;32mc:\\Users\\gunwo\\.conda\\envs\\cuda\\lib\\site-packages\\googleapiclient\\_helpers.py:130\u001b[0m, in \u001b[0;36mpositional.<locals>.positional_decorator.<locals>.positional_wrapper\u001b[1;34m(*args, **kwargs)\u001b[0m\n\u001b[0;32m    129\u001b[0m         logger\u001b[39m.\u001b[39mwarning(message)\n\u001b[1;32m--> 130\u001b[0m \u001b[39mreturn\u001b[39;00m wrapped(\u001b[39m*\u001b[39;49margs, \u001b[39m*\u001b[39;49m\u001b[39m*\u001b[39;49mkwargs)\n",
      "File \u001b[1;32mc:\\Users\\gunwo\\.conda\\envs\\cuda\\lib\\site-packages\\googleapiclient\\http.py:938\u001b[0m, in \u001b[0;36mHttpRequest.execute\u001b[1;34m(self, http, num_retries)\u001b[0m\n\u001b[0;32m    937\u001b[0m \u001b[39mif\u001b[39;00m resp\u001b[39m.\u001b[39mstatus \u001b[39m>\u001b[39m\u001b[39m=\u001b[39m \u001b[39m300\u001b[39m:\n\u001b[1;32m--> 938\u001b[0m     \u001b[39mraise\u001b[39;00m HttpError(resp, content, uri\u001b[39m=\u001b[39m\u001b[39mself\u001b[39m\u001b[39m.\u001b[39muri)\n\u001b[0;32m    939\u001b[0m \u001b[39mreturn\u001b[39;00m \u001b[39mself\u001b[39m\u001b[39m.\u001b[39mpostproc(resp, content)\n",
      "\u001b[1;31mHttpError\u001b[0m: <HttpError 400 when requesting https://earthengine.googleapis.com/v1/projects/earthengine-legacy/value:compute?prettyPrint=false&alt=json returned \"Error in map(ID=20170430T020701_20170430T021509_T52SEE):\nImage.select: Parameter 'input' is required.\". Details: \"Error in map(ID=20170430T020701_20170430T021509_T52SEE):\nImage.select: Parameter 'input' is required.\">",
      "\nDuring handling of the above exception, another exception occurred:\n",
      "\u001b[1;31mEEException\u001b[0m                               Traceback (most recent call last)",
      "\u001b[1;32mc:\\Users\\gunwo\\github\\Sar-Bluecarbon-Service\\study\\gunwoda\\1114.ipynb Cell 9\u001b[0m line \u001b[0;36m1\n\u001b[1;32m----> <a href='vscode-notebook-cell:/c%3A/Users/gunwo/github/Sar-Bluecarbon-Service/study/gunwoda/1114.ipynb#W6sZmlsZQ%3D%3D?line=0'>1</a>\u001b[0m df \u001b[39m=\u001b[39m calculateNDVI(aoi,start_date,end_date)\n",
      "\u001b[1;32mc:\\Users\\gunwo\\github\\Sar-Bluecarbon-Service\\study\\gunwoda\\1114.ipynb Cell 9\u001b[0m line \u001b[0;36m3\n\u001b[0;32m     <a href='vscode-notebook-cell:/c%3A/Users/gunwo/github/Sar-Bluecarbon-Service/study/gunwoda/1114.ipynb#W6sZmlsZQ%3D%3D?line=35'>36</a>\u001b[0m time_series_ndvi \u001b[39m=\u001b[39m valid_images\u001b[39m.\u001b[39mmap(calculate_ndvi)\n\u001b[0;32m     <a href='vscode-notebook-cell:/c%3A/Users/gunwo/github/Sar-Bluecarbon-Service/study/gunwoda/1114.ipynb#W6sZmlsZQ%3D%3D?line=37'>38</a>\u001b[0m \u001b[39m# 결과를 서버측 객체로 변환 (Python 클라이언트로 가져오기 위함)\u001b[39;00m\n\u001b[1;32m---> <a href='vscode-notebook-cell:/c%3A/Users/gunwo/github/Sar-Bluecarbon-Service/study/gunwoda/1114.ipynb#W6sZmlsZQ%3D%3D?line=38'>39</a>\u001b[0m rvi_features \u001b[39m=\u001b[39m time_series_ndvi\u001b[39m.\u001b[39;49mgetInfo()[\u001b[39m'\u001b[39m\u001b[39mfeatures\u001b[39m\u001b[39m'\u001b[39m]\n\u001b[0;32m     <a href='vscode-notebook-cell:/c%3A/Users/gunwo/github/Sar-Bluecarbon-Service/study/gunwoda/1114.ipynb#W6sZmlsZQ%3D%3D?line=40'>41</a>\u001b[0m \u001b[39m# 결과를 pandas DataFrame으로 변환\u001b[39;00m\n\u001b[0;32m     <a href='vscode-notebook-cell:/c%3A/Users/gunwo/github/Sar-Bluecarbon-Service/study/gunwoda/1114.ipynb#W6sZmlsZQ%3D%3D?line=41'>42</a>\u001b[0m df \u001b[39m=\u001b[39m pd\u001b[39m.\u001b[39mDataFrame([feat[\u001b[39m'\u001b[39m\u001b[39mproperties\u001b[39m\u001b[39m'\u001b[39m] \u001b[39mfor\u001b[39;00m feat \u001b[39min\u001b[39;00m rvi_features])\n",
      "File \u001b[1;32mc:\\Users\\gunwo\\.conda\\envs\\cuda\\lib\\site-packages\\ee\\collection.py:157\u001b[0m, in \u001b[0;36mCollection.getInfo\u001b[1;34m(self)\u001b[0m\n\u001b[0;32m    144\u001b[0m \u001b[39mdef\u001b[39;00m \u001b[39mgetInfo\u001b[39m(\u001b[39mself\u001b[39m) \u001b[39m-\u001b[39m\u001b[39m>\u001b[39m Optional[Any]:\n\u001b[0;32m    145\u001b[0m \u001b[39m  \u001b[39m\u001b[39m\"\"\"Returns all the known information about this collection.\u001b[39;00m\n\u001b[0;32m    146\u001b[0m \n\u001b[0;32m    147\u001b[0m \u001b[39m  This function makes an REST call to to retrieve all the known information\u001b[39;00m\n\u001b[1;32m   (...)\u001b[0m\n\u001b[0;32m    155\u001b[0m \u001b[39m         properties.\u001b[39;00m\n\u001b[0;32m    156\u001b[0m \u001b[39m  \"\"\"\u001b[39;00m\n\u001b[1;32m--> 157\u001b[0m   \u001b[39mreturn\u001b[39;00m \u001b[39msuper\u001b[39;49m()\u001b[39m.\u001b[39;49mgetInfo()\n",
      "File \u001b[1;32mc:\\Users\\gunwo\\.conda\\envs\\cuda\\lib\\site-packages\\ee\\computedobject.py:105\u001b[0m, in \u001b[0;36mComputedObject.getInfo\u001b[1;34m(self)\u001b[0m\n\u001b[0;32m     99\u001b[0m \u001b[39mdef\u001b[39;00m \u001b[39mgetInfo\u001b[39m(\u001b[39mself\u001b[39m) \u001b[39m-\u001b[39m\u001b[39m>\u001b[39m Optional[Any]:\n\u001b[0;32m    100\u001b[0m \u001b[39m  \u001b[39m\u001b[39m\"\"\"Fetch and return information about this object.\u001b[39;00m\n\u001b[0;32m    101\u001b[0m \n\u001b[0;32m    102\u001b[0m \u001b[39m  Returns:\u001b[39;00m\n\u001b[0;32m    103\u001b[0m \u001b[39m    The object can evaluate to anything.\u001b[39;00m\n\u001b[0;32m    104\u001b[0m \u001b[39m  \"\"\"\u001b[39;00m\n\u001b[1;32m--> 105\u001b[0m   \u001b[39mreturn\u001b[39;00m data\u001b[39m.\u001b[39;49mcomputeValue(\u001b[39mself\u001b[39;49m)\n",
      "File \u001b[1;32mc:\\Users\\gunwo\\.conda\\envs\\cuda\\lib\\site-packages\\ee\\data.py:1053\u001b[0m, in \u001b[0;36mcomputeValue\u001b[1;34m(obj)\u001b[0m\n\u001b[0;32m   1050\u001b[0m body \u001b[39m=\u001b[39m {\u001b[39m'\u001b[39m\u001b[39mexpression\u001b[39m\u001b[39m'\u001b[39m: serializer\u001b[39m.\u001b[39mencode(obj, for_cloud_api\u001b[39m=\u001b[39m\u001b[39mTrue\u001b[39;00m)}\n\u001b[0;32m   1051\u001b[0m _maybe_populate_workload_tag(body)\n\u001b[1;32m-> 1053\u001b[0m \u001b[39mreturn\u001b[39;00m _execute_cloud_call(\n\u001b[0;32m   1054\u001b[0m     _get_cloud_projects()\n\u001b[0;32m   1055\u001b[0m     \u001b[39m.\u001b[39;49mvalue()\n\u001b[0;32m   1056\u001b[0m     \u001b[39m.\u001b[39;49mcompute(body\u001b[39m=\u001b[39;49mbody, project\u001b[39m=\u001b[39;49m_get_projects_path(), prettyPrint\u001b[39m=\u001b[39;49m\u001b[39mFalse\u001b[39;49;00m)\n\u001b[0;32m   1057\u001b[0m )[\u001b[39m'\u001b[39m\u001b[39mresult\u001b[39m\u001b[39m'\u001b[39m]\n",
      "File \u001b[1;32mc:\\Users\\gunwo\\.conda\\envs\\cuda\\lib\\site-packages\\ee\\data.py:357\u001b[0m, in \u001b[0;36m_execute_cloud_call\u001b[1;34m(call, num_retries)\u001b[0m\n\u001b[0;32m    355\u001b[0m   \u001b[39mreturn\u001b[39;00m call\u001b[39m.\u001b[39mexecute(num_retries\u001b[39m=\u001b[39mnum_retries)\n\u001b[0;32m    356\u001b[0m \u001b[39mexcept\u001b[39;00m googleapiclient\u001b[39m.\u001b[39merrors\u001b[39m.\u001b[39mHttpError \u001b[39mas\u001b[39;00m e:\n\u001b[1;32m--> 357\u001b[0m   \u001b[39mraise\u001b[39;00m _translate_cloud_exception(e)\n",
      "\u001b[1;31mEEException\u001b[0m: Error in map(ID=20170430T020701_20170430T021509_T52SEE):\nImage.select: Parameter 'input' is required."
     ]
    }
   ],
   "source": [
    "df = calculateNDVI(aoi,start_date,end_date)"
   ]
  },
  {
   "cell_type": "code",
   "execution_count": 64,
   "metadata": {},
   "outputs": [
    {
     "data": {
      "text/html": [
       "<div>\n",
       "<style scoped>\n",
       "    .dataframe tbody tr th:only-of-type {\n",
       "        vertical-align: middle;\n",
       "    }\n",
       "\n",
       "    .dataframe tbody tr th {\n",
       "        vertical-align: top;\n",
       "    }\n",
       "\n",
       "    .dataframe thead th {\n",
       "        text-align: right;\n",
       "    }\n",
       "</style>\n",
       "<table border=\"1\" class=\"dataframe\">\n",
       "  <thead>\n",
       "    <tr style=\"text-align: right;\">\n",
       "      <th></th>\n",
       "      <th>y</th>\n",
       "    </tr>\n",
       "  </thead>\n",
       "  <tbody>\n",
       "    <tr>\n",
       "      <th>count</th>\n",
       "      <td>972.000000</td>\n",
       "    </tr>\n",
       "    <tr>\n",
       "      <th>mean</th>\n",
       "      <td>-0.064836</td>\n",
       "    </tr>\n",
       "    <tr>\n",
       "      <th>std</th>\n",
       "      <td>0.083554</td>\n",
       "    </tr>\n",
       "    <tr>\n",
       "      <th>min</th>\n",
       "      <td>-0.336028</td>\n",
       "    </tr>\n",
       "    <tr>\n",
       "      <th>25%</th>\n",
       "      <td>-0.121905</td>\n",
       "    </tr>\n",
       "    <tr>\n",
       "      <th>50%</th>\n",
       "      <td>-0.033221</td>\n",
       "    </tr>\n",
       "    <tr>\n",
       "      <th>75%</th>\n",
       "      <td>-0.003711</td>\n",
       "    </tr>\n",
       "    <tr>\n",
       "      <th>max</th>\n",
       "      <td>0.457788</td>\n",
       "    </tr>\n",
       "  </tbody>\n",
       "</table>\n",
       "</div>"
      ],
      "text/plain": [
       "                y\n",
       "count  972.000000\n",
       "mean    -0.064836\n",
       "std      0.083554\n",
       "min     -0.336028\n",
       "25%     -0.121905\n",
       "50%     -0.033221\n",
       "75%     -0.003711\n",
       "max      0.457788"
      ]
     },
     "execution_count": 64,
     "metadata": {},
     "output_type": "execute_result"
    }
   ],
   "source": [
    "df.describe()"
   ]
  },
  {
   "cell_type": "code",
   "execution_count": 65,
   "metadata": {},
   "outputs": [],
   "source": [
    "def prophet_process(df):\n",
    "    # Prophet 모델을 초기화하고 학습시킵니다.\n",
    "    m = Prophet(yearly_seasonality=True)\n",
    "    m.fit(df)\n",
    "\n",
    "    # 미래 날짜 프레임을 만들고 예측을 진행합니다.\n",
    "    future = m.make_future_dataframe(periods=12,freq='M')\n",
    "    forecast = m.predict(future) \n",
    "\n",
    "    # 예측 결과를 가져옵니다.\n",
    "    forecasted_value = forecast.iloc[-1]['yhat']  # 예측된 값을 가져옴\n",
    "    # 예측 결과를 데이터프레임에 추가합니다.\n",
    "    forecast_df = df.append({'ds': future.iloc[-1]['ds'], 'y': forecasted_value}, ignore_index=True)\n",
    "    return forecast,forecast_df,df,m\n",
    "\n",
    "def plotly(df, forecast):\n",
    "    # Create a Plotly Express figure for both forecast and observed data\n",
    "    combined_fig = px.line(forecast, x='ds', y='yhat', title='예측')\n",
    "    \n",
    "    # Add observed data to the same figure\n",
    "    combined_fig.add_trace(px.scatter(df, x='ds', y='y', title='관측치', color_discrete_sequence=['red']).data[0])\n",
    "\n",
    "    # Display the combined figure using st.plotly_chart()\n",
    "    st.plotly_chart(combined_fig, use_container_width = True)"
   ]
  },
  {
   "cell_type": "code",
   "execution_count": null,
   "metadata": {},
   "outputs": [],
   "source": []
  }
 ],
 "metadata": {
  "kernelspec": {
   "display_name": "cuda",
   "language": "python",
   "name": "python3"
  },
  "language_info": {
   "codemirror_mode": {
    "name": "ipython",
    "version": 3
   },
   "file_extension": ".py",
   "mimetype": "text/x-python",
   "name": "python",
   "nbconvert_exporter": "python",
   "pygments_lexer": "ipython3",
   "version": "3.8.17"
  }
 },
 "nbformat": 4,
 "nbformat_minor": 2
}
